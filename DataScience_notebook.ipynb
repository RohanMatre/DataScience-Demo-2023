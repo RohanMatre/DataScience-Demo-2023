{
  "nbformat": 4,
  "nbformat_minor": 0,
  "metadata": {
    "colab": {
      "provenance": [],
      "authorship_tag": "ABX9TyOdYzg2FxYQHo0IRXb5NM3w",
      "include_colab_link": true
    },
    "kernelspec": {
      "name": "python3",
      "display_name": "Python 3"
    },
    "language_info": {
      "name": "python"
    }
  },
  "cells": [
    {
      "cell_type": "markdown",
      "metadata": {
        "id": "view-in-github",
        "colab_type": "text"
      },
      "source": [
        "<a href=\"https://colab.research.google.com/github/RohanMatre/DataScience-Demo-2023/blob/main/DataScience_notebook.ipynb\" target=\"_parent\"><img src=\"https://colab.research.google.com/assets/colab-badge.svg\" alt=\"Open In Colab\"/></a>"
      ]
    },
    {
      "cell_type": "markdown",
      "source": [
        "## **1. Ingest**"
      ],
      "metadata": {
        "id": "GSDQ5QPD3jff"
      }
    },
    {
      "cell_type": "code",
      "source": [],
      "metadata": {
        "id": "CRXUIPKp3Y0J"
      },
      "execution_count": null,
      "outputs": []
    },
    {
      "cell_type": "markdown",
      "source": [
        "## **2. EDA**"
      ],
      "metadata": {
        "id": "6MQxgguY3n37"
      }
    },
    {
      "cell_type": "code",
      "source": [],
      "metadata": {
        "id": "LvmMwdhJ30QI"
      },
      "execution_count": null,
      "outputs": []
    },
    {
      "cell_type": "markdown",
      "source": [
        "## **3. Modeling**"
      ],
      "metadata": {
        "id": "pKLOto0v30rw"
      }
    },
    {
      "cell_type": "code",
      "source": [],
      "metadata": {
        "id": "goWLkvqn34GN"
      },
      "execution_count": null,
      "outputs": []
    },
    {
      "cell_type": "markdown",
      "source": [
        "## **4. Conclusion**"
      ],
      "metadata": {
        "id": "VUgYDcsW34ft"
      }
    },
    {
      "cell_type": "code",
      "source": [],
      "metadata": {
        "id": "MgRvCpjy39zB"
      },
      "execution_count": null,
      "outputs": []
    }
  ]
}